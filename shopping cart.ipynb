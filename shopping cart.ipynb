{
 "cells": [
  {
   "cell_type": "code",
   "execution_count": 33,
   "id": "412cad21",
   "metadata": {},
   "outputs": [],
   "source": [
    "#practice\n",
    "#from IPython.display import clear_output\n",
    "\n",
    "#def shopping_list(cart):\n",
    "    \n",
    " #   item = input('Welcome to Krish Mart! What would you like to buy?').title()\n",
    " #   if item in cart.keys(): \n",
    " #       quantity = int(input(f\"how many {item}s would you like to add? \"))\n",
    "       # quantity = int(input(f 'how many {items}s would you like to add?''))\n",
    "#        cart[item]['quantity'] += quantity\n",
    "#    else:\n",
    " #       price = float(input(f'what is the price of {item}? '))\n",
    "#        quantity = int(input(f'how many {item}s would you like to add?'))\n",
    " #       cart[item] = {'price' :price, 'quantity': quantity}\n",
    " #   clear_output()\n",
    "  #  print(f'{quantity} {item}s have been added to your cart')\n",
    "    \n",
    "    \n",
    "    \n",
    "    \n",
    "    "
   ]
  },
  {
   "cell_type": "code",
   "execution_count": 34,
   "id": "9fd14aa6",
   "metadata": {},
   "outputs": [],
   "source": [
    "#shopping_list(cart)"
   ]
  },
  {
   "cell_type": "code",
   "execution_count": 35,
   "id": "ba5810ff",
   "metadata": {},
   "outputs": [
    {
     "name": "stdout",
     "output_type": "stream",
     "text": [
      "item name:\n",
      "hot dogs\n",
      "quantity purchased:\n",
      "4\n",
      "Price per item:\n",
      "1.3\n",
      "would you like to enter another item?\n",
      "Type 'yes' or 'no':\n",
      "yes\n",
      "item name:\n",
      "batman\n",
      "quantity purchased:\n",
      "1\n",
      "Price per item:\n",
      "4\n",
      "would you like to enter another item?\n",
      "Type 'yes' or 'no':\n",
      "no\n",
      "4 hot dogs @ $1.30 each $5.20\n",
      "1 batman @ $4.00 each $4.00\n",
      "grand total: $9.20\n"
     ]
    }
   ],
   "source": [
    "#empty sets\n",
    "shopping_item = {}\n",
    "\n",
    "shopping_history = []\n",
    "\n",
    "stop = False\n",
    "\n",
    "#used to see if while loop condition is met\n",
    "\n",
    "while not stop:\n",
    "    #accept input of name of shopping item\n",
    "    name = input(\"item name:\\n\")\n",
    "    \n",
    "    #accept input of quantity of shopping item\n",
    "    quantity = input(\"quantity purchased:\\n\")\n",
    "    \n",
    "    #accept input of cost of shopping item per item\n",
    "    cost = input(\"Price per item:\\n\")\n",
    "    \n",
    "    #dictonary which has name, number and price entered\n",
    "    shopping_item = {'item_name':name,'quantity':int(quantity), 'cost':float(cost)}\n",
    "    \n",
    "    #add shopping_item to shopping history using append\n",
    "    shopping_history.append(shopping_item)\n",
    "\n",
    "    #accept input from user about if they are done entering item\n",
    "    response = input(\"would you like to enter another item?\\nType 'yes' or 'no':\\n\")\n",
    "    \n",
    "    if response =='no':\n",
    "        stop = True\n",
    "\n",
    " #define variable for grand total\n",
    "grand_total = 0\n",
    "\n",
    "#define a for loop\n",
    "\n",
    "for item in shopping_history:\n",
    "                                                     \n",
    "    #calculte the total cost for shopping item\n",
    "    total_cost = item['quantity'] * item['cost']\n",
    "\n",
    "    #add the item total to the grand total\n",
    "    grand_total += total_cost\n",
    "                                                     \n",
    "    #output the information for the grocery item to match \n",
    "    print(\"%d %s @ $%.2f each $%.2f\" %(item['quantity'], item['item_name'], item['cost'], total_cost))\n",
    "                                                     \n",
    "    #set the total cost to 0\n",
    "    total_cost = 0\n",
    "                                                     \n",
    "#print grand total\n",
    "print(\"grand total: $%.2f\" % grand_total)"
   ]
  },
  {
   "cell_type": "code",
   "execution_count": null,
   "id": "6dc17abe",
   "metadata": {},
   "outputs": [],
   "source": []
  }
 ],
 "metadata": {
  "kernelspec": {
   "display_name": "Python 3 (ipykernel)",
   "language": "python",
   "name": "python3"
  },
  "language_info": {
   "codemirror_mode": {
    "name": "ipython",
    "version": 3
   },
   "file_extension": ".py",
   "mimetype": "text/x-python",
   "name": "python",
   "nbconvert_exporter": "python",
   "pygments_lexer": "ipython3",
   "version": "3.9.7"
  }
 },
 "nbformat": 4,
 "nbformat_minor": 5
}
